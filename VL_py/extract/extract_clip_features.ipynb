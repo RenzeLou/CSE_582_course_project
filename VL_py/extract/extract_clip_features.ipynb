{
 "cells": [
  {
   "cell_type": "code",
   "execution_count": 9,
   "id": "829874ab",
   "metadata": {
    "ExecuteTime": {
     "end_time": "2022-10-23T12:04:14.195626Z",
     "start_time": "2022-10-23T12:04:12.854769Z"
    }
   },
   "outputs": [],
   "source": [
    "import os\n",
    "os.environ[\"CUDA_DEVICE_ORDER\"]=\"PCI_BUS_ID\"   # see issue #152\n",
    "os.environ[\"CUDA_VISIBLE_DEVICES\"]=\"7\"\n",
    "\n",
    "import tqdm\n",
    "import h5py\n",
    "import clip\n",
    "import torch\n",
    "from torch.utils.data import DataLoader\n",
    "from dataloader_video import VideoCLIPDataset\n",
    "\n",
    "import math\n",
    "import urllib.request\n",
    "import clip\n",
    "import matplotlib.pyplot as plt\n",
    "import numpy as np\n",
    "import torch\n",
    "from PIL import Image\n",
    "from torchvision import transforms\n",
    "import cv2\n",
    "\n",
    "#Set the data directory\n",
    "data_dir = '../../data/'\n"
   ]
  },
  {
   "cell_type": "code",
   "execution_count": 10,
   "id": "aef9cd22",
   "metadata": {
    "ExecuteTime": {
     "end_time": "2022-10-23T12:04:14.493632Z",
     "start_time": "2022-10-23T12:04:14.199214Z"
    }
   },
   "outputs": [
    {
     "name": "stdout",
     "output_type": "stream",
     "text": [
      "40\n"
     ]
    }
   ],
   "source": [
    "\n",
    "frame_num = 32\n",
    "dataset = VideoCLIPDataset(None, frame_num, os.path.join(data_dir, \"videos/*.mp4\"))\n",
    "print(len(dataset))\n",
    "\n",
    "dataloader = DataLoader(\n",
    "    dataset,\n",
    "    batch_size=1,\n",
    "    num_workers = 16,\n",
    "    shuffle=False\n",
    ")\n",
    "data_iter = iter(dataloader)"
   ]
  },
  {
   "cell_type": "code",
   "execution_count": 13,
   "id": "cec45f14",
   "metadata": {
    "ExecuteTime": {
     "end_time": "2022-10-23T12:04:27.399568Z",
     "start_time": "2022-10-23T12:04:14.495824Z"
    }
   },
   "outputs": [
    {
     "name": "stderr",
     "output_type": "stream",
     "text": [
      "100%|███████████████████████████████████████| 338M/338M [00:16<00:00, 21.2MiB/s]\n"
     ]
    }
   ],
   "source": [
    "# Load CLIP model.\n",
    "clip_model = \"ViT-B/32\" #@param [\"RN50\", \"RN101\", \"RN50x4\", \"RN50x16\", \"ViT-B/32\", \"ViT-B/16\"]\n",
    "device = \"cuda\" if torch.cuda.is_available() else \"cpu\"\n",
    "model, preprocess = clip.load(clip_model, device=device, jit=False)"
   ]
  },
  {
   "cell_type": "markdown",
   "id": "0c0fb3b9",
   "metadata": {},
   "source": [
    "## Extract Feature"
   ]
  },
  {
   "cell_type": "code",
   "execution_count": 16,
   "id": "994349e3",
   "metadata": {
    "ExecuteTime": {
     "end_time": "2022-10-09T08:10:19.187888Z",
     "start_time": "2022-10-09T08:10:19.178104Z"
    }
   },
   "outputs": [
    {
     "data": {
      "text/plain": [
       "<HDF5 dataset \"ids\": shape (40,), type \"|S50\">"
      ]
     },
     "execution_count": 16,
     "metadata": {},
     "output_type": "execute_result"
    }
   ],
   "source": [
    "os.makedirs(os.path.join(data_dir, 'frame_feat'))\n",
    "dataset_feats = h5py.File(os.path.join(data_dir, \"frame_feat/clip_patch_feat_all.h5\"), \"w\")\n",
    "dataset_feats.create_dataset(\"features\", (len(dataset), 32, 17, 512))\n",
    "dataset_feats.create_dataset(\"ids\", (len(dataset), ), 'S50')\n",
    "# dataset_feats.close()"
   ]
  },
  {
   "cell_type": "code",
   "execution_count": 17,
   "id": "2078b389",
   "metadata": {
    "ExecuteTime": {
     "end_time": "2022-10-09T09:27:18.130898Z",
     "start_time": "2022-10-09T08:10:24.605180Z"
    }
   },
   "outputs": [
    {
     "name": "stderr",
     "output_type": "stream",
     "text": [
      "  2%|▎         | 1/40 [00:05<03:23,  5.21s/it]"
     ]
    },
    {
     "name": "stdout",
     "output_type": "stream",
     "text": [
      "b'using_computer_2'\n"
     ]
    },
    {
     "name": "stderr",
     "output_type": "stream",
     "text": [
      "  5%|▌         | 2/40 [00:05<01:28,  2.34s/it]"
     ]
    },
    {
     "name": "stdout",
     "output_type": "stream",
     "text": [
      "b'watch_tv_1'\n"
     ]
    },
    {
     "name": "stderr",
     "output_type": "stream",
     "text": [
      "  8%|▊         | 3/40 [00:05<00:51,  1.40s/it]"
     ]
    },
    {
     "name": "stdout",
     "output_type": "stream",
     "text": [
      "b'wash_glass_3'\n"
     ]
    },
    {
     "name": "stderr",
     "output_type": "stream",
     "text": [
      " 10%|█         | 4/40 [00:06<00:34,  1.05it/s]"
     ]
    },
    {
     "name": "stdout",
     "output_type": "stream",
     "text": [
      "b'using_microwave_0'\n"
     ]
    },
    {
     "name": "stderr",
     "output_type": "stream",
     "text": [
      " 12%|█▎        | 5/40 [00:06<00:24,  1.41it/s]"
     ]
    },
    {
     "name": "stdout",
     "output_type": "stream",
     "text": [
      "b'using_computer_0'\n"
     ]
    },
    {
     "name": "stderr",
     "output_type": "stream",
     "text": [
      " 15%|█▌        | 6/40 [00:06<00:19,  1.74it/s]"
     ]
    },
    {
     "name": "stdout",
     "output_type": "stream",
     "text": [
      "b'using_dishwasher_3'\n"
     ]
    },
    {
     "name": "stderr",
     "output_type": "stream",
     "text": [
      " 18%|█▊        | 7/40 [00:06<00:15,  2.10it/s]"
     ]
    },
    {
     "name": "stdout",
     "output_type": "stream",
     "text": [
      "b'using_dishwasher_1'\n"
     ]
    },
    {
     "name": "stderr",
     "output_type": "stream",
     "text": [
      " 20%|██        | 8/40 [00:07<00:13,  2.42it/s]"
     ]
    },
    {
     "name": "stdout",
     "output_type": "stream",
     "text": [
      "b'using_stove_2'\n"
     ]
    },
    {
     "name": "stderr",
     "output_type": "stream",
     "text": [
      " 22%|██▎       | 9/40 [00:07<00:11,  2.68it/s]"
     ]
    },
    {
     "name": "stdout",
     "output_type": "stream",
     "text": [
      "b'using_stove_1'\n"
     ]
    },
    {
     "name": "stderr",
     "output_type": "stream",
     "text": [
      " 25%|██▌       | 10/40 [00:07<00:10,  2.85it/s]"
     ]
    },
    {
     "name": "stdout",
     "output_type": "stream",
     "text": [
      "b'using_oven_3'\n"
     ]
    },
    {
     "name": "stderr",
     "output_type": "stream",
     "text": [
      " 28%|██▊       | 11/40 [00:08<00:09,  2.95it/s]"
     ]
    },
    {
     "name": "stdout",
     "output_type": "stream",
     "text": [
      "b'read_book_0'\n"
     ]
    },
    {
     "name": "stderr",
     "output_type": "stream",
     "text": [
      " 30%|███       | 12/40 [00:08<00:09,  3.06it/s]"
     ]
    },
    {
     "name": "stdout",
     "output_type": "stream",
     "text": [
      "b'using_microwave_2'\n"
     ]
    },
    {
     "name": "stderr",
     "output_type": "stream",
     "text": [
      " 32%|███▎      | 13/40 [00:08<00:08,  3.15it/s]"
     ]
    },
    {
     "name": "stdout",
     "output_type": "stream",
     "text": [
      "b'bathroom_cabinet_0'\n"
     ]
    },
    {
     "name": "stderr",
     "output_type": "stream",
     "text": [
      " 35%|███▌      | 14/40 [00:09<00:08,  3.17it/s]"
     ]
    },
    {
     "name": "stdout",
     "output_type": "stream",
     "text": [
      "b'using_oven_1'\n"
     ]
    },
    {
     "name": "stderr",
     "output_type": "stream",
     "text": [
      " 38%|███▊      | 15/40 [00:09<00:07,  3.22it/s]"
     ]
    },
    {
     "name": "stdout",
     "output_type": "stream",
     "text": [
      "b'bedroom_cabinet_3'\n"
     ]
    },
    {
     "name": "stderr",
     "output_type": "stream",
     "text": [
      " 40%|████      | 16/40 [00:09<00:07,  3.30it/s]"
     ]
    },
    {
     "name": "stdout",
     "output_type": "stream",
     "text": [
      "b'wash_glass_1'\n"
     ]
    },
    {
     "name": "stderr",
     "output_type": "stream",
     "text": [
      " 42%|████▎     | 17/40 [00:09<00:07,  3.28it/s]"
     ]
    },
    {
     "name": "stdout",
     "output_type": "stream",
     "text": [
      "b'bathroom_cabinet_3'\n"
     ]
    },
    {
     "name": "stderr",
     "output_type": "stream",
     "text": [
      " 45%|████▌     | 18/40 [00:10<00:07,  3.00it/s]"
     ]
    },
    {
     "name": "stdout",
     "output_type": "stream",
     "text": [
      "b'bedroom_cabinet_2'\n"
     ]
    },
    {
     "name": "stderr",
     "output_type": "stream",
     "text": [
      " 48%|████▊     | 19/40 [00:10<00:06,  3.15it/s]"
     ]
    },
    {
     "name": "stdout",
     "output_type": "stream",
     "text": [
      "b'using_oven_2'\n"
     ]
    },
    {
     "name": "stderr",
     "output_type": "stream",
     "text": [
      " 50%|█████     | 20/40 [00:10<00:06,  3.25it/s]"
     ]
    },
    {
     "name": "stdout",
     "output_type": "stream",
     "text": [
      "b'using_microwave_3'\n"
     ]
    },
    {
     "name": "stderr",
     "output_type": "stream",
     "text": [
      " 52%|█████▎    | 21/40 [00:11<00:05,  3.35it/s]"
     ]
    },
    {
     "name": "stdout",
     "output_type": "stream",
     "text": [
      "b'using_computer_3'\n"
     ]
    },
    {
     "name": "stderr",
     "output_type": "stream",
     "text": [
      " 55%|█████▌    | 22/40 [00:11<00:05,  3.43it/s]"
     ]
    },
    {
     "name": "stdout",
     "output_type": "stream",
     "text": [
      "b'using_stove_0'\n"
     ]
    },
    {
     "name": "stderr",
     "output_type": "stream",
     "text": [
      " 57%|█████▊    | 23/40 [00:11<00:04,  3.48it/s]"
     ]
    },
    {
     "name": "stdout",
     "output_type": "stream",
     "text": [
      "b'using_dishwasher_0'\n"
     ]
    },
    {
     "name": "stderr",
     "output_type": "stream",
     "text": [
      " 60%|██████    | 24/40 [00:12<00:04,  3.47it/s]"
     ]
    },
    {
     "name": "stdout",
     "output_type": "stream",
     "text": [
      "b'using_dishwasher_2'\n"
     ]
    },
    {
     "name": "stderr",
     "output_type": "stream",
     "text": [
      " 62%|██████▎   | 25/40 [00:12<00:04,  3.57it/s]"
     ]
    },
    {
     "name": "stdout",
     "output_type": "stream",
     "text": [
      "b'using_stove_3'\n"
     ]
    },
    {
     "name": "stderr",
     "output_type": "stream",
     "text": [
      " 65%|██████▌   | 26/40 [00:12<00:03,  3.60it/s]"
     ]
    },
    {
     "name": "stdout",
     "output_type": "stream",
     "text": [
      "b'watch_tv_3'\n"
     ]
    },
    {
     "name": "stderr",
     "output_type": "stream",
     "text": [
      " 68%|██████▊   | 27/40 [00:14<00:12,  1.08it/s]"
     ]
    },
    {
     "name": "stdout",
     "output_type": "stream",
     "text": [
      "b'wash_glass_0'\n"
     ]
    },
    {
     "name": "stderr",
     "output_type": "stream",
     "text": [
      " 70%|███████   | 28/40 [00:15<00:08,  1.37it/s]"
     ]
    },
    {
     "name": "stdout",
     "output_type": "stream",
     "text": [
      "b'using_computer_1'\n"
     ]
    },
    {
     "name": "stderr",
     "output_type": "stream",
     "text": [
      " 72%|███████▎  | 29/40 [00:15<00:06,  1.71it/s]"
     ]
    },
    {
     "name": "stdout",
     "output_type": "stream",
     "text": [
      "b'wash_glass_2'\n"
     ]
    },
    {
     "name": "stderr",
     "output_type": "stream",
     "text": [
      " 75%|███████▌  | 30/40 [00:15<00:04,  2.07it/s]"
     ]
    },
    {
     "name": "stdout",
     "output_type": "stream",
     "text": [
      "b'read_book_1'\n"
     ]
    },
    {
     "name": "stderr",
     "output_type": "stream",
     "text": [
      " 78%|███████▊  | 31/40 [00:16<00:03,  2.41it/s]"
     ]
    },
    {
     "name": "stdout",
     "output_type": "stream",
     "text": [
      "b'bedroom_cabinet_1'\n"
     ]
    },
    {
     "name": "stderr",
     "output_type": "stream",
     "text": [
      " 80%|████████  | 32/40 [00:16<00:02,  2.74it/s]"
     ]
    },
    {
     "name": "stdout",
     "output_type": "stream",
     "text": [
      "b'bathroom_cabinet_1'\n"
     ]
    },
    {
     "name": "stderr",
     "output_type": "stream",
     "text": [
      " 82%|████████▎ | 33/40 [00:16<00:02,  3.02it/s]"
     ]
    },
    {
     "name": "stdout",
     "output_type": "stream",
     "text": [
      "b'watch_tv_0'\n"
     ]
    },
    {
     "name": "stderr",
     "output_type": "stream",
     "text": [
      " 85%|████████▌ | 34/40 [00:16<00:01,  3.26it/s]"
     ]
    },
    {
     "name": "stdout",
     "output_type": "stream",
     "text": [
      "b'bedroom_cabinet_0'\n"
     ]
    },
    {
     "name": "stderr",
     "output_type": "stream",
     "text": [
      " 88%|████████▊ | 35/40 [00:16<00:01,  3.48it/s]"
     ]
    },
    {
     "name": "stdout",
     "output_type": "stream",
     "text": [
      "b'read_book_3'\n"
     ]
    },
    {
     "name": "stderr",
     "output_type": "stream",
     "text": [
      " 90%|█████████ | 36/40 [00:17<00:01,  3.61it/s]"
     ]
    },
    {
     "name": "stdout",
     "output_type": "stream",
     "text": [
      "b'watch_tv_2'\n"
     ]
    },
    {
     "name": "stderr",
     "output_type": "stream",
     "text": [
      " 92%|█████████▎| 37/40 [00:17<00:00,  3.66it/s]"
     ]
    },
    {
     "name": "stdout",
     "output_type": "stream",
     "text": [
      "b'using_microwave_1'\n"
     ]
    },
    {
     "name": "stderr",
     "output_type": "stream",
     "text": [
      " 95%|█████████▌| 38/40 [00:17<00:00,  3.72it/s]"
     ]
    },
    {
     "name": "stdout",
     "output_type": "stream",
     "text": [
      "b'read_book_2'\n"
     ]
    },
    {
     "name": "stderr",
     "output_type": "stream",
     "text": [
      " 98%|█████████▊| 39/40 [00:18<00:00,  3.78it/s]"
     ]
    },
    {
     "name": "stdout",
     "output_type": "stream",
     "text": [
      "b'using_oven_0'\n"
     ]
    },
    {
     "name": "stderr",
     "output_type": "stream",
     "text": [
      "100%|██████████| 40/40 [00:18<00:00,  3.84it/s]"
     ]
    },
    {
     "name": "stdout",
     "output_type": "stream",
     "text": [
      "b'bathroom_cabinet_2'\n"
     ]
    },
    {
     "name": "stderr",
     "output_type": "stream",
     "text": [
      "100%|██████████| 40/40 [00:18<00:00,  2.16it/s]\n"
     ]
    }
   ],
   "source": [
    "global_index = 0\n",
    "video_ids = {}\n",
    "data_iter = iter(dataloader)\n",
    "for batch in tqdm.tqdm(data_iter):\n",
    "    batch_size = batch['video'].shape[0]\n",
    "    for i in range(batch_size):\n",
    "        for j in range(frame_num):\n",
    "            with torch.no_grad():  \n",
    "                image_features = model.encode_image(batch['video'][i][j].cuda())\n",
    "            dataset_feats['features'][global_index, j] = image_features.detach().cpu().numpy()\n",
    "        dataset_feats['ids'][global_index] = batch['vid'][i].split('/')[-1].strip('.mp4').encode(\"ascii\", \"ignore\")  #b'../data_582/videos/bathroom_cabinet_2.mp4' =>'bathroom_cabinet_2'\n",
    "        print(dataset_feats['ids'][global_index])\n",
    "        global_index += 1\n",
    "    \n",
    "\n"
   ]
  },
  {
   "cell_type": "code",
   "execution_count": 18,
   "id": "748d93ff",
   "metadata": {
    "ExecuteTime": {
     "end_time": "2022-10-09T15:16:10.486370Z",
     "start_time": "2022-10-09T15:16:10.481723Z"
    }
   },
   "outputs": [],
   "source": [
    "#Close the file pointer\n",
    "dataset_feats.close()"
   ]
  },
  {
   "cell_type": "markdown",
   "id": "fd4eeb6e",
   "metadata": {},
   "source": [
    "# Check the extracted feature\n"
   ]
  },
  {
   "cell_type": "code",
   "execution_count": 19,
   "id": "156d1999",
   "metadata": {},
   "outputs": [
    {
     "ename": "FileNotFoundError",
     "evalue": "[Errno 2] Unable to synchronously open file (unable to open file: name = '../data_582/frame_feat/clip_patch_feat_all.h5', errno = 2, error message = 'No such file or directory', flags = 0, o_flags = 0)",
     "output_type": "error",
     "traceback": [
      "\u001b[0;31m---------------------------------------------------------------------------\u001b[0m",
      "\u001b[0;31mFileNotFoundError\u001b[0m                         Traceback (most recent call last)",
      "Cell \u001b[0;32mIn[19], line 7\u001b[0m\n\u001b[1;32m      5\u001b[0m frame_feats \u001b[38;5;241m=\u001b[39m {}\n\u001b[1;32m      6\u001b[0m app_feat_file \u001b[38;5;241m=\u001b[39m osp\u001b[38;5;241m.\u001b[39mjoin(\u001b[38;5;124m'\u001b[39m\u001b[38;5;124m../data_582\u001b[39m\u001b[38;5;124m'\u001b[39m, \u001b[38;5;124mf\u001b[39m\u001b[38;5;124m'\u001b[39m\u001b[38;5;124mframe_feat/clip_patch_feat_all.h5\u001b[39m\u001b[38;5;124m'\u001b[39m)\n\u001b[0;32m----> 7\u001b[0m \u001b[38;5;28;01mwith\u001b[39;00m \u001b[43mh5py\u001b[49m\u001b[38;5;241;43m.\u001b[39;49m\u001b[43mFile\u001b[49m\u001b[43m(\u001b[49m\u001b[43mapp_feat_file\u001b[49m\u001b[43m,\u001b[49m\u001b[43m \u001b[49m\u001b[38;5;124;43m'\u001b[39;49m\u001b[38;5;124;43mr\u001b[39;49m\u001b[38;5;124;43m'\u001b[39;49m\u001b[43m)\u001b[49m \u001b[38;5;28;01mas\u001b[39;00m fp:\n\u001b[1;32m      8\u001b[0m         vids \u001b[38;5;241m=\u001b[39m fp[\u001b[38;5;124m'\u001b[39m\u001b[38;5;124mids\u001b[39m\u001b[38;5;124m'\u001b[39m]\n\u001b[1;32m      9\u001b[0m         feats \u001b[38;5;241m=\u001b[39m fp[\u001b[38;5;124m'\u001b[39m\u001b[38;5;124mfeatures\u001b[39m\u001b[38;5;124m'\u001b[39m]\n",
      "File \u001b[0;32m/data/yfs5313/conda/envs/t2t/lib/python3.8/site-packages/h5py/_hl/files.py:562\u001b[0m, in \u001b[0;36mFile.__init__\u001b[0;34m(self, name, mode, driver, libver, userblock_size, swmr, rdcc_nslots, rdcc_nbytes, rdcc_w0, track_order, fs_strategy, fs_persist, fs_threshold, fs_page_size, page_buf_size, min_meta_keep, min_raw_keep, locking, alignment_threshold, alignment_interval, meta_block_size, **kwds)\u001b[0m\n\u001b[1;32m    553\u001b[0m     fapl \u001b[38;5;241m=\u001b[39m make_fapl(driver, libver, rdcc_nslots, rdcc_nbytes, rdcc_w0,\n\u001b[1;32m    554\u001b[0m                      locking, page_buf_size, min_meta_keep, min_raw_keep,\n\u001b[1;32m    555\u001b[0m                      alignment_threshold\u001b[38;5;241m=\u001b[39malignment_threshold,\n\u001b[1;32m    556\u001b[0m                      alignment_interval\u001b[38;5;241m=\u001b[39malignment_interval,\n\u001b[1;32m    557\u001b[0m                      meta_block_size\u001b[38;5;241m=\u001b[39mmeta_block_size,\n\u001b[1;32m    558\u001b[0m                      \u001b[38;5;241m*\u001b[39m\u001b[38;5;241m*\u001b[39mkwds)\n\u001b[1;32m    559\u001b[0m     fcpl \u001b[38;5;241m=\u001b[39m make_fcpl(track_order\u001b[38;5;241m=\u001b[39mtrack_order, fs_strategy\u001b[38;5;241m=\u001b[39mfs_strategy,\n\u001b[1;32m    560\u001b[0m                      fs_persist\u001b[38;5;241m=\u001b[39mfs_persist, fs_threshold\u001b[38;5;241m=\u001b[39mfs_threshold,\n\u001b[1;32m    561\u001b[0m                      fs_page_size\u001b[38;5;241m=\u001b[39mfs_page_size)\n\u001b[0;32m--> 562\u001b[0m     fid \u001b[38;5;241m=\u001b[39m \u001b[43mmake_fid\u001b[49m\u001b[43m(\u001b[49m\u001b[43mname\u001b[49m\u001b[43m,\u001b[49m\u001b[43m \u001b[49m\u001b[43mmode\u001b[49m\u001b[43m,\u001b[49m\u001b[43m \u001b[49m\u001b[43muserblock_size\u001b[49m\u001b[43m,\u001b[49m\u001b[43m \u001b[49m\u001b[43mfapl\u001b[49m\u001b[43m,\u001b[49m\u001b[43m \u001b[49m\u001b[43mfcpl\u001b[49m\u001b[43m,\u001b[49m\u001b[43m \u001b[49m\u001b[43mswmr\u001b[49m\u001b[38;5;241;43m=\u001b[39;49m\u001b[43mswmr\u001b[49m\u001b[43m)\u001b[49m\n\u001b[1;32m    564\u001b[0m \u001b[38;5;28;01mif\u001b[39;00m \u001b[38;5;28misinstance\u001b[39m(libver, \u001b[38;5;28mtuple\u001b[39m):\n\u001b[1;32m    565\u001b[0m     \u001b[38;5;28mself\u001b[39m\u001b[38;5;241m.\u001b[39m_libver \u001b[38;5;241m=\u001b[39m libver\n",
      "File \u001b[0;32m/data/yfs5313/conda/envs/t2t/lib/python3.8/site-packages/h5py/_hl/files.py:235\u001b[0m, in \u001b[0;36mmake_fid\u001b[0;34m(name, mode, userblock_size, fapl, fcpl, swmr)\u001b[0m\n\u001b[1;32m    233\u001b[0m     \u001b[38;5;28;01mif\u001b[39;00m swmr \u001b[38;5;129;01mand\u001b[39;00m swmr_support:\n\u001b[1;32m    234\u001b[0m         flags \u001b[38;5;241m|\u001b[39m\u001b[38;5;241m=\u001b[39m h5f\u001b[38;5;241m.\u001b[39mACC_SWMR_READ\n\u001b[0;32m--> 235\u001b[0m     fid \u001b[38;5;241m=\u001b[39m \u001b[43mh5f\u001b[49m\u001b[38;5;241;43m.\u001b[39;49m\u001b[43mopen\u001b[49m\u001b[43m(\u001b[49m\u001b[43mname\u001b[49m\u001b[43m,\u001b[49m\u001b[43m \u001b[49m\u001b[43mflags\u001b[49m\u001b[43m,\u001b[49m\u001b[43m \u001b[49m\u001b[43mfapl\u001b[49m\u001b[38;5;241;43m=\u001b[39;49m\u001b[43mfapl\u001b[49m\u001b[43m)\u001b[49m\n\u001b[1;32m    236\u001b[0m \u001b[38;5;28;01melif\u001b[39;00m mode \u001b[38;5;241m==\u001b[39m \u001b[38;5;124m'\u001b[39m\u001b[38;5;124mr+\u001b[39m\u001b[38;5;124m'\u001b[39m:\n\u001b[1;32m    237\u001b[0m     fid \u001b[38;5;241m=\u001b[39m h5f\u001b[38;5;241m.\u001b[39mopen(name, h5f\u001b[38;5;241m.\u001b[39mACC_RDWR, fapl\u001b[38;5;241m=\u001b[39mfapl)\n",
      "File \u001b[0;32mh5py/_objects.pyx:54\u001b[0m, in \u001b[0;36mh5py._objects.with_phil.wrapper\u001b[0;34m()\u001b[0m\n",
      "File \u001b[0;32mh5py/_objects.pyx:55\u001b[0m, in \u001b[0;36mh5py._objects.with_phil.wrapper\u001b[0;34m()\u001b[0m\n",
      "File \u001b[0;32mh5py/h5f.pyx:102\u001b[0m, in \u001b[0;36mh5py.h5f.open\u001b[0;34m()\u001b[0m\n",
      "\u001b[0;31mFileNotFoundError\u001b[0m: [Errno 2] Unable to synchronously open file (unable to open file: name = '../data_582/frame_feat/clip_patch_feat_all.h5', errno = 2, error message = 'No such file or directory', flags = 0, o_flags = 0)"
     ]
    }
   ],
   "source": [
    "import os.path as osp\n",
    "import h5py\n",
    "data_path = '../data'\n",
    "encoding = 'utf-8'\n",
    "frame_feats = {}\n",
    "app_feat_file = osp.join(data_dir, f'frame_feat/clip_patch_feat_all.h5')\n",
    "with h5py.File(app_feat_file, 'r') as fp:\n",
    "        vids = fp['ids']\n",
    "        feats = fp['features']\n",
    "        print(feats.shape)  # v_num, clip_num, feat_dim\n",
    "        for id, (vid, feat) in enumerate(zip(vids, feats)):\n",
    "            vid = vid.decode(encoding)\n",
    "            frame_feats[vid] = feat\n",
    "\n",
    "fp.close()\n",
    "frame_feats"
   ]
  },
  {
   "cell_type": "markdown",
   "id": "8f2fa334",
   "metadata": {},
   "source": [
    "## Check Results"
   ]
  },
  {
   "cell_type": "code",
   "execution_count": null,
   "id": "9b1f4815",
   "metadata": {
    "ExecuteTime": {
     "end_time": "2022-10-23T12:04:27.441062Z",
     "start_time": "2022-10-23T12:04:27.418115Z"
    }
   },
   "outputs": [],
   "source": [
    "batch = data_iter.next()"
   ]
  },
  {
   "cell_type": "code",
   "execution_count": null,
   "id": "faaeb39b",
   "metadata": {
    "ExecuteTime": {
     "end_time": "2022-10-23T12:04:42.238647Z",
     "start_time": "2022-10-23T12:04:37.965879Z"
    }
   },
   "outputs": [],
   "source": [
    "# Load CLIP model.\n",
    "clip_model = \"ViT-B/32\" #@param [\"RN50\", \"RN101\", \"RN50x4\", \"RN50x16\", \"ViT-B/32\", \"ViT-B/16\"]\n",
    "device = \"cuda\" if torch.cuda.is_available() else \"cpu\"\n",
    "model, preprocess = clip.load(clip_model, device=device, jit=False)"
   ]
  },
  {
   "cell_type": "code",
   "execution_count": null,
   "id": "64f24972",
   "metadata": {
    "ExecuteTime": {
     "end_time": "2022-10-23T12:04:45.692046Z",
     "start_time": "2022-10-23T12:04:45.683536Z"
    }
   },
   "outputs": [],
   "source": [
    "def load_image(raw_img, resize=None, pil=False):\n",
    "    if isinstance(raw_img, str):\n",
    "        image = Image.open(raw_img).convert(\"RGB\")\n",
    "    else:\n",
    "        image = Image.fromarray(raw_img).convert(\"RGB\")\n",
    "    \n",
    "    if resize is not None:\n",
    "        image = image.resize((resize, resize))\n",
    "    return np.asarray(image).astype(np.float32) / 255.\n",
    "\n",
    "def viz_patches(x, figsize=(20, 20), patch_idx=None, topk=None, t=5):\n",
    "    # x: num_patches, 3, patch_size, patch_size\n",
    "    n = x.shape[0]\n",
    "    nrows = int(math.sqrt(n))\n",
    "    _, axes = plt.subplots(nrows, nrows, figsize=figsize)\n",
    "    for i, ax in enumerate(axes.flatten()):            \n",
    "        im = x[i].permute(1, 2, 0).numpy()\n",
    "        im = (im * 255.).round().astype(np.uint8)\n",
    "        if patch_idx is not None and i == patch_idx:\n",
    "            im[0:t] = (255, 0, 0)\n",
    "            im[im.shape[0]-t:] = (255, 0, 0)\n",
    "            im[:, 0:t] = (255, 0, 0)\n",
    "            im[:, im.shape[1]-t:] = (255, 0, 0)\n",
    "        if topk is not None:\n",
    "            if i in topk and i != patch_idx:\n",
    "                im[0:t] = (255, 255, 0)\n",
    "                im[im.shape[0]-t:] = (255, 255, 0)\n",
    "                im[:, 0:t] = (255, 255, 0)\n",
    "                im[:, im.shape[1]-t:] = (255, 255, 0)\n",
    "        ax.imshow(im)\n",
    "        ax.axis(\"off\")\n",
    "    plt.show()\n",
    "\n",
    "def patchify(image_path, resolution, patch_size, patch_stride=None):\n",
    "    img_tensor = transforms.ToTensor()(load_image(image_path, resolution, True))\n",
    "    if patch_stride is None:\n",
    "        patch_stride = patch_size\n",
    "    patches = img_tensor.unfold(\n",
    "        1, patch_size, patch_stride).unfold(2, patch_size, patch_stride)\n",
    "    patches = patches.reshape(3, -1, patch_size, patch_size).permute(1, 0, 2, 3)\n",
    "    return patches  # N, 3, patch_size, patch_size"
   ]
  },
  {
   "cell_type": "code",
   "execution_count": null,
   "id": "e41ba756",
   "metadata": {
    "ExecuteTime": {
     "end_time": "2022-10-23T12:05:38.857839Z",
     "start_time": "2022-10-23T12:05:38.241317Z"
    }
   },
   "outputs": [],
   "source": [
    "image_resolution = 224 * 4\n",
    "patch_size = 224\n",
    "image_index = 0\n",
    "one_frame = batch['raw_frame'][0][image_index].permute(1,2,0).numpy()\n",
    "raw_patches = patchify(one_frame, image_resolution, patch_size, patch_stride=None)\n",
    "print(\"patches: \", raw_patches.shape)\n",
    "viz_patches(raw_patches, figsize=(8, 8))"
   ]
  },
  {
   "cell_type": "code",
   "execution_count": null,
   "id": "ba1017fb",
   "metadata": {
    "ExecuteTime": {
     "end_time": "2022-10-23T12:05:47.774516Z",
     "start_time": "2022-10-23T12:05:47.669334Z"
    }
   },
   "outputs": [],
   "source": [
    "plt.imshow((batch['video'][0][image_index][0].permute(1, 2, 0).numpy() * 255.).round().astype(np.uint8))\n",
    "plt.show()"
   ]
  },
  {
   "cell_type": "code",
   "execution_count": null,
   "id": "7532a661",
   "metadata": {
    "ExecuteTime": {
     "end_time": "2022-10-23T12:06:10.921392Z",
     "start_time": "2022-10-23T12:06:10.284230Z"
    }
   },
   "outputs": [],
   "source": [
    "#@title Detect\n",
    "patches = batch['video'][0][image_index][1:]\n",
    "\n",
    "clip_model = \"ViT-B/32\" #@param [\"RN50\", \"RN101\", \"RN50x4\", \"RN50x16\", \"ViT-B/32\", \"ViT-B/16\"]\n",
    "image_caption = 'green flower' #@param {type:\"string\"}\n",
    "topk =  4#@param {type:\"integer\"}\n",
    "\n",
    "text_input = clip.tokenize([image_caption]).to(device)\n",
    "\n",
    "patches_pad = patches.to(device)\n",
    "\n",
    "with torch.no_grad():\n",
    "    patch_embs = model.encode_image(patches_pad)\n",
    "    text_embs = model.encode_text(text_input)\n",
    "    patch_embs = patch_embs / patch_embs.norm(dim=-1, keepdim=True)\n",
    "    text_embs = text_embs / text_embs.norm(dim=-1, keepdim=True)\n",
    "    sim = patch_embs @ text_embs.t()\n",
    "    idx_max = sim.argmax().item()\n",
    "    topk_idxs = torch.topk(sim.flatten(), topk)[-1].cpu().numpy().tolist()\n",
    "\n",
    "viz_patches(patches, figsize=(10, 10), patch_idx=idx_max, topk=topk_idxs, t=int(0.05*patch_size))"
   ]
  },
  {
   "cell_type": "code",
   "execution_count": null,
   "id": "304289ab",
   "metadata": {
    "ExecuteTime": {
     "end_time": "2022-10-23T12:06:15.763141Z",
     "start_time": "2022-10-23T12:06:15.244223Z"
    }
   },
   "outputs": [],
   "source": [
    "#@title Detect\n",
    "patches = patchify(one_frame, image_resolution, patch_size, patch_stride=None)\n",
    "\n",
    "\n",
    "# image_caption = 'hand' #@param {type:\"string\"}\n",
    "topk =  4#@param {type:\"integer\"}\n",
    "\n",
    "text_input = clip.tokenize([image_caption]).to(device)\n",
    "\n",
    "patches_pad = patches.to(device)\n",
    "\n",
    "with torch.no_grad():\n",
    "    patch_embs = model.encode_image(patches_pad)\n",
    "    text_embs = model.encode_text(text_input)\n",
    "    patch_embs = patch_embs / patch_embs.norm(dim=-1, keepdim=True)\n",
    "    text_embs = text_embs / text_embs.norm(dim=-1, keepdim=True)\n",
    "    sim = patch_embs @ text_embs.t()\n",
    "    idx_max = sim.argmax().item()\n",
    "    topk_idxs = torch.topk(sim.flatten(), topk)[-1].cpu().numpy().tolist()\n",
    "\n",
    "viz_patches(raw_patches, figsize=(10, 10), patch_idx=idx_max, topk=topk_idxs, t=int(0.05*patch_size))"
   ]
  }
 ],
 "metadata": {
  "kernelspec": {
   "display_name": "w2w",
   "language": "python",
   "name": "python3"
  },
  "language_info": {
   "codemirror_mode": {
    "name": "ipython",
    "version": 3
   },
   "file_extension": ".py",
   "mimetype": "text/x-python",
   "name": "python",
   "nbconvert_exporter": "python",
   "pygments_lexer": "ipython3",
   "version": "3.8.0"
  },
  "toc": {
   "base_numbering": 1,
   "nav_menu": {},
   "number_sections": true,
   "sideBar": true,
   "skip_h1_title": false,
   "title_cell": "Table of Contents",
   "title_sidebar": "Contents",
   "toc_cell": false,
   "toc_position": {},
   "toc_section_display": true,
   "toc_window_display": false
  }
 },
 "nbformat": 4,
 "nbformat_minor": 5
}
